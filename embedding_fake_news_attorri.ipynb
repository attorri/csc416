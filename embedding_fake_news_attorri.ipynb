{
 "cells": [
  {
   "cell_type": "markdown",
   "metadata": {},
   "source": [
    "##  Movie Data Sentiment Analysis\n",
    "\n",
    " 1.  Data (words) Encoding/Embedding: \n",
    "      - Training data X:  \n",
    "        --  each word is embedded to 32 real values,  \n",
    "        --  each post (sample data) is padded to 500 words,   \n",
    "        --  each training X_i is 16000 = 32*500 long 1-d vector  \n",
    "        \n",
    "      - labels Y: 1/0 binary class\n",
    "          \n",
    "            \n",
    " 2. Model\n",
    "    - DNN\n",
    "    - CNN\n",
    " \n",
    "updated 11/8/2020\n"
   ]
  },
  {
   "cell_type": "markdown",
   "metadata": {},
   "source": [
    "## 1. DNN model\n"
   ]
  },
  {
   "cell_type": "code",
   "execution_count": 650,
   "metadata": {
    "ExecuteTime": {
     "end_time": "2022-11-01T14:18:20.532597Z",
     "start_time": "2022-11-01T14:18:20.519597Z"
    }
   },
   "outputs": [],
   "source": [
    "# !pip install tensorflow"
   ]
  },
  {
   "cell_type": "code",
   "execution_count": 651,
   "metadata": {
    "ExecuteTime": {
     "end_time": "2022-11-01T14:23:01.489774Z",
     "start_time": "2022-11-01T14:22:58.580081Z"
    }
   },
   "outputs": [],
   "source": [
    "from tensorflow import keras\n",
    "from tensorflow.keras import layers\n",
    "from tensorflow.keras.preprocessing import sequence\n",
    "\n",
    "# MLP for the IMDB problem\n",
    "from tensorflow.keras.datasets import imdb\n",
    "from tensorflow.keras.preprocessing.sequence import pad_sequences\n",
    "from keras.preprocessing.text import Tokenizer\n",
    "from sklearn.model_selection import train_test_split\n",
    "import numpy as np\n",
    "import pandas as pd\n",
    "from sklearn.preprocessing import LabelEncoder"
   ]
  },
  {
   "cell_type": "code",
   "execution_count": 652,
   "metadata": {},
   "outputs": [
    {
     "data": {
      "text/plain": [
       "\"#Read the data\\ndf=pd.read_csv('C:\\\\Users\\\\attor\\\\Downloads\\\\news.csv')\\n\\n#Get shape and head\\ndisplay(df.shape)\\ndf.head()\""
      ]
     },
     "execution_count": 652,
     "metadata": {},
     "output_type": "execute_result"
    }
   ],
   "source": [
    "\"\"\"#Read the data\n",
    "df=pd.read_csv('C:\\\\Users\\\\attor\\\\Downloads\\\\news.csv')\n",
    "\n",
    "#Get shape and head\n",
    "display(df.shape)\n",
    "df.head()\"\"\""
   ]
  },
  {
   "cell_type": "code",
   "execution_count": 653,
   "metadata": {},
   "outputs": [
    {
     "data": {
      "text/plain": [
       "'\\n\\nX_train, X_test, y_train, y_test = train_test_split(df[\\'text\\'], df[\\'label\\'], test_size=0.2)\\n\\n# Preprocess the data\\ntokenizer = Tokenizer(num_words=vocab)\\ntokenizer.fit_on_texts(X_train)\\nX_train = tokenizer.texts_to_sequences(X_train)\\nX_test = tokenizer.texts_to_sequences(X_test)\\nmax_length = max(len(x) for x in X_train)\\nX_train = pad_sequences(X_train, maxlen=max_length)\\nX_test = pad_sequences(X_test, maxlen=max_length)\\n\\n# Check the data samples size\\nprint(\"X_train sample size:\", X_train.shape)   # e.g., (8000, 1000)\\nprint(\"X_test  sample size:\", X_test.shape)    # e.g., (2000, 1000)'"
      ]
     },
     "execution_count": 653,
     "metadata": {},
     "output_type": "execute_result"
    }
   ],
   "source": [
    "\"\"\"\n",
    "\n",
    "X_train, X_test, y_train, y_test = train_test_split(df['text'], df['label'], test_size=0.2)\n",
    "\n",
    "# Preprocess the data\n",
    "tokenizer = Tokenizer(num_words=vocab)\n",
    "tokenizer.fit_on_texts(X_train)\n",
    "X_train = tokenizer.texts_to_sequences(X_train)\n",
    "X_test = tokenizer.texts_to_sequences(X_test)\n",
    "max_length = max(len(x) for x in X_train)\n",
    "X_train = pad_sequences(X_train, maxlen=max_length)\n",
    "X_test = pad_sequences(X_test, maxlen=max_length)\n",
    "\n",
    "# Check the data samples size\n",
    "print(\"X_train sample size:\", X_train.shape)   # e.g., (8000, 1000)\n",
    "print(\"X_test  sample size:\", X_test.shape)    # e.g., (2000, 1000)\"\"\"\n"
   ]
  },
  {
   "cell_type": "code",
   "execution_count": null,
   "metadata": {},
   "outputs": [],
   "source": []
  },
  {
   "cell_type": "code",
   "execution_count": 654,
   "metadata": {
    "ExecuteTime": {
     "end_time": "2022-11-01T14:23:05.115656Z",
     "start_time": "2022-11-01T14:23:01.523703Z"
    }
   },
   "outputs": [
    {
     "data": {
      "text/plain": [
       "'# # MLP for the IMDB problem\\n\\n# load the dataset but only keep the top n words, this is the vocab size\\nvocab = 5000 #vocab_size is no.of words to consider from the dataset, ordering based on frequency.\\n\\n(X_train, y_train), (X_test, y_test) = imdb.load_data(num_words=vocab)\\n\\n# Chech the data samples size\\nprint(\"X_train sample size:\", X_train.shape)         # total we have 25 000 samples\\nprint(\"X_test  sample size:\", X_test.shape)            # total we have 25 000 samples'"
      ]
     },
     "execution_count": 654,
     "metadata": {},
     "output_type": "execute_result"
    }
   ],
   "source": [
    "\"\"\"# # MLP for the IMDB problem\n",
    "\n",
    "# load the dataset but only keep the top n words, this is the vocab size\n",
    "vocab = 5000 #vocab_size is no.of words to consider from the dataset, ordering based on frequency.\n",
    "\n",
    "(X_train, y_train), (X_test, y_test) = imdb.load_data(num_words=vocab)\n",
    "\n",
    "# Chech the data samples size\n",
    "print(\"X_train sample size:\", X_train.shape)         # total we have 25 000 samples\n",
    "print(\"X_test  sample size:\", X_test.shape)            # total we have 25 000 samples\"\"\""
   ]
  },
  {
   "cell_type": "code",
   "execution_count": 655,
   "metadata": {},
   "outputs": [
    {
     "name": "stdout",
     "output_type": "stream",
     "text": [
      "X_train sample size: (5068, 500)\n",
      "X_test  sample size: (1267, 500)\n"
     ]
    }
   ],
   "source": [
    "df = pd.read_csv('C:\\\\Users\\\\attor\\\\Downloads\\\\news.csv')\n",
    "\n",
    "# Extract the input and target variables\n",
    "X = df['text'].values\n",
    "y = df['label'].values\n",
    "\n",
    "# Tokenize the text\n",
    "tokenizer = Tokenizer(num_words=5000)\n",
    "tokenizer.fit_on_texts(X)\n",
    "X = tokenizer.texts_to_sequences(X)\n",
    "le = LabelEncoder()\n",
    "y = le.fit_transform(y)\n",
    "\n",
    "# Pad sequences to the same length\n",
    "max_length = 500 # originally 100 , i think ??\n",
    "X = pad_sequences(X, maxlen=max_length)\n",
    "\n",
    "# Split the data into training and testing sets\n",
    "X_train, X_test, y_train, y_test = train_test_split(X, y, test_size=0.2, random_state=42)\n",
    "\n",
    "# Check the data sample size\n",
    "print(\"X_train sample size:\", X_train.shape)\n",
    "print(\"X_test  sample size:\", X_test.shape)"
   ]
  },
  {
   "cell_type": "code",
   "execution_count": 656,
   "metadata": {},
   "outputs": [
    {
     "data": {
      "text/plain": [
       "\"texts = df['text'].values\\nlabels = df['label'].values\\n\""
      ]
     },
     "execution_count": 656,
     "metadata": {},
     "output_type": "execute_result"
    }
   ],
   "source": [
    "\"\"\"texts = df['text'].values\n",
    "labels = df['label'].values\n",
    "\"\"\""
   ]
  },
  {
   "cell_type": "code",
   "execution_count": 657,
   "metadata": {},
   "outputs": [],
   "source": [
    "# Set the vocabulary size and maximum sequence length\n",
    "vocab_size = 5000\n",
    "max_length = 1000\n",
    "\n",
    "# Tokenize the texts\n",
    "tokenizer = Tokenizer(num_words=vocab_size)\n",
    "tokenizer.fit_on_texts(texts)\n",
    "sequences = tokenizer.texts_to_sequences(texts)\n",
    "\n",
    "# Pad the sequences\n",
    "X = pad_sequences(sequences, maxlen=max_length)"
   ]
  },
  {
   "cell_type": "code",
   "execution_count": 658,
   "metadata": {},
   "outputs": [],
   "source": [
    "#X_train, X_test, y_train, y_test = train_test_split(X, labels, test_size=0.2, random_state=42)"
   ]
  },
  {
   "cell_type": "code",
   "execution_count": 659,
   "metadata": {
    "ExecuteTime": {
     "end_time": "2022-11-01T14:23:05.162299Z",
     "start_time": "2022-11-01T14:23:05.148240Z"
    }
   },
   "outputs": [
    {
     "data": {
      "text/plain": [
       "'# labels: binary class problem\\nprint(\"y_train size:\", len(y_train) )\\nprint(\"y_test  size:\", len(y_test))\\n\\nprint(\"The first 10 label of trainging data\", y_train[0:10])'"
      ]
     },
     "execution_count": 659,
     "metadata": {},
     "output_type": "execute_result"
    }
   ],
   "source": [
    "\"\"\"# labels: binary class problem\n",
    "print(\"y_train size:\", len(y_train) )\n",
    "print(\"y_test  size:\", len(y_test))\n",
    "\n",
    "print(\"The first 10 label of trainging data\", y_train[0:10])\"\"\""
   ]
  },
  {
   "cell_type": "code",
   "execution_count": 660,
   "metadata": {
    "ExecuteTime": {
     "end_time": "2022-11-01T14:23:05.208865Z",
     "start_time": "2022-11-01T14:23:05.195374Z"
    }
   },
   "outputs": [
    {
     "name": "stdout",
     "output_type": "stream",
     "text": [
      "[   0    0    0    0    0    0    0    0    0    0    0    0    0    0\n",
      "    0    0    0    0    0    0    0    0    0    0    0    0    0    0\n",
      "    0    0    0    0    0    0    0    0    0    0    0    0    0    0\n",
      "    0    0    0    0    0    0    0    0    0    0    0    0    0    0\n",
      "    0    0    0    0    0    0    0    0    0    0    0    0    0    0\n",
      "    0    0    0    0    0    0    0    0    0    0    0    0    0    0\n",
      "    0    0    0    0    0    0    0    0    0    0    0    0    0    0\n",
      "    0    0    0    0    0    0    0    0    0    0    0    0    0    0\n",
      "    0    0    0    0    0    0    0    0    0    0    0    0    0    0\n",
      "    0    0    0    0    0    0    0    0    0    0    0    0    0    0\n",
      "    0    0    0    0    0    0    0    0    0    0    0    0    0    0\n",
      "    0    0    0    0    0    0    0    0    0    0    0    0    0    0\n",
      "    0    0    0    0    0    0    0    0    0    0    0    0    0    0\n",
      "    0    0    0    0    0    0    0    0    0    0    0    0    0    0\n",
      "    0    0    0    0    0    0    0    0    0    0    0    0    0    0\n",
      "    0    0    0    0    0    0    0    0    0    0    0    0    0    0\n",
      "    0    0    0    0    0    0    0    0    0    0    0    0    0    0\n",
      "    0    0    0    0    0    0    0    0    0    0    0    0    0    0\n",
      "    0    0    0    0    0    0    0    0    0    0    0    0    0    0\n",
      "    0    0    0    0    0    0    0    0    0    0    0    0    0    0\n",
      "    0    0    0    0    0    0    0    0    0    0    0    0    0    0\n",
      "    0    0    0    0    0    0    0    0    0    0    0    0    0    0\n",
      "    0    0    0    0    0    0    0    0    0    0    0    0    0    0\n",
      "    0    0    0    0    0    0    0    0    0    0    0    0    0    0\n",
      "    0    0    0    0    0    0    0    0    0    0    0    0    0    0\n",
      "    0    0    0    0    0    0    0    0    0    0    0    0    0    0\n",
      "    0    0    0    0    0    0    0    0    0    0    0    0    0    0\n",
      "    0    0    0    0    0    0    0    0    0    0    0    0    0    0\n",
      "    0    0    0    0    0    0    0    0    0    0    0    0    0    0\n",
      "    0    0    0    0    0    0    0    0    0    0    0    0    0    0\n",
      "    0    0    0    0    0    0    0    0    0    0    0    0    0    0\n",
      "    0    0    0    0    0    0    0    0    0    0    0    0    0    0\n",
      "    0    0    0    0    0    0    0    0    0    0    0    0    0    0\n",
      "    0    0    0    0    0    0    0    0    0    0    0    0    0    0\n",
      "    0    0    0  138   29  815    5  546 1931    9   23  457 1744  346\n",
      " 2904 4050   44    3    1 3434    6  214    3  457]\n"
     ]
    }
   ],
   "source": [
    "# words are encoding to integers: integer = the index of this word in the vocab list\n",
    "print(X_train[0])"
   ]
  },
  {
   "cell_type": "code",
   "execution_count": 661,
   "metadata": {
    "ExecuteTime": {
     "end_time": "2022-11-01T14:23:06.031962Z",
     "start_time": "2022-11-01T14:23:05.242445Z"
    }
   },
   "outputs": [
    {
     "data": {
      "text/plain": [
       "'# check the first post (sample)\\nprint(\"The length of first message:\", len(X_train[0]) )\\n\\n\\n# For each sample, keep only 500 words, some are short and some are long, we keep them as the same size \\n# for short message: add 0s; for long message: first 500 words)\\nmax_words = 500\\n\\n\\n\\nX_train = sequence.pad_sequences(X_train, maxlen=max_words)\\nX_test = sequence.pad_sequences(X_test, maxlen=max_words)\\nprint(\"traing data words:\", len(X_train[0])  )# each one to pad to the same size: shorter: + 0, longer: cut\\n\\nprint(\"the last 10 words\\' indices in the Vocab list:\",  X_train[0][-10:]) '"
      ]
     },
     "execution_count": 661,
     "metadata": {},
     "output_type": "execute_result"
    }
   ],
   "source": [
    "\"\"\"# check the first post (sample)\n",
    "print(\"The length of first message:\", len(X_train[0]) )\n",
    "\n",
    "\n",
    "# For each sample, keep only 500 words, some are short and some are long, we keep them as the same size \n",
    "# for short message: add 0s; for long message: first 500 words)\n",
    "max_words = 500\n",
    "\n",
    "\n",
    "\n",
    "X_train = sequence.pad_sequences(X_train, maxlen=max_words)\n",
    "X_test = sequence.pad_sequences(X_test, maxlen=max_words)\n",
    "print(\"traing data words:\", len(X_train[0])  )# each one to pad to the same size: shorter: + 0, longer: cut\n",
    "\n",
    "print(\"the last 10 words' indices in the Vocab list:\",  X_train[0][-10:]) \"\"\""
   ]
  },
  {
   "cell_type": "code",
   "execution_count": 662,
   "metadata": {
    "ExecuteTime": {
     "end_time": "2022-11-01T14:23:06.188879Z",
     "start_time": "2022-11-01T14:23:06.064850Z"
    }
   },
   "outputs": [
    {
     "data": {
      "text/plain": [
       "'# what words are they?\\nword_to_idx_dict = imdb.get_word_index()\\nn = len(word_to_idx_dict)\\n\\nprint(\"Number distinct words in reviews = %d \\n\" % n)\\nword_to_idx_dict\\n\\n# # sort dict by index\\nsorted(word_to_idx_dict.items(),  key=lambda x: x[1])\\n'"
      ]
     },
     "execution_count": 662,
     "metadata": {},
     "output_type": "execute_result"
    }
   ],
   "source": [
    "\"\"\"# what words are they?\n",
    "word_to_idx_dict = imdb.get_word_index()\n",
    "n = len(word_to_idx_dict)\n",
    "\n",
    "print(\"Number distinct words in reviews = %d \\n\" % n)\n",
    "word_to_idx_dict\n",
    "\n",
    "# # sort dict by index\n",
    "sorted(word_to_idx_dict.items(),  key=lambda x: x[1])\n",
    "\"\"\""
   ]
  },
  {
   "attachments": {
    "image.png": {
     "image/png": "[encoded data removed]"
    }
   },
   "cell_type": "markdown",
   "metadata": {},
   "source": [
    "### Word embeding\n",
    "This is a technique where words are encoded as real-valued vectors in a high-dimensional space, where the similarity between words in terms of meaning translates to closeness in the vector space.\n",
    "\n",
    "Discrete words are mapped to vectors of continuous numbers. This is useful when working with natural language problems with neural networks and deep learning models are we require numbers as input.\n",
    "\n",
    "Keras provides a convenient way to convert positive integer representations of words into a word embedding by an Embedding layer.\n",
    "\n",
    "![image.png](attachment:image.png)"
   ]
  },
  {
   "cell_type": "code",
   "execution_count": 663,
   "metadata": {
    "ExecuteTime": {
     "end_time": "2022-11-01T14:23:07.345917Z",
     "start_time": "2022-11-01T14:23:06.285036Z"
    }
   },
   "outputs": [
    {
     "name": "stdout",
     "output_type": "stream",
     "text": [
      "Model: \"sequential_56\"\n",
      "_________________________________________________________________\n",
      " Layer (type)                Output Shape              Param #   \n",
      "=================================================================\n",
      " embedding_54 (Embedding)    (None, 500, 32)           160000    \n",
      "                                                                 \n",
      " flatten_54 (Flatten)        (None, 16000)             0         \n",
      "                                                                 \n",
      " dense_155 (Dense)           (None, 100)               1600100   \n",
      "                                                                 \n",
      " dense_156 (Dense)           (None, 40)                4040      \n",
      "                                                                 \n",
      " dropout_46 (Dropout)        (None, 40)                0         \n",
      "                                                                 \n",
      " dense_157 (Dense)           (None, 40)                1640      \n",
      "                                                                 \n",
      " dropout_47 (Dropout)        (None, 40)                0         \n",
      "                                                                 \n",
      " dense_158 (Dense)           (None, 1)                 41        \n",
      "                                                                 \n",
      "=================================================================\n",
      "Total params: 1,765,821\n",
      "Trainable params: 1,765,821\n",
      "Non-trainable params: 0\n",
      "_________________________________________________________________\n"
     ]
    }
   ],
   "source": [
    "# layers.Embedding(vocab, embeding_size, input_length_each_sample))\n",
    "\n",
    "# create model\n",
    "max_words = 500 # originally, 500\n",
    "model = keras.Sequential()\n",
    "model.add(layers.Embedding(vocab, 32, input_length=max_words))           # max_words = 500, each word embeded to 32 real numbers\n",
    "model.add(layers.Flatten())                                              # 32*500 = 16000 for each input\n",
    "model.add(layers.Dense(100, activation='relu'))\n",
    "model.add(layers.Dense(40, activation='relu')) # added layer\n",
    "model.add(layers.Dropout(0.25))  # Dropout layer added here\n",
    "model.add(layers.Dense(40, activation='relu')) # added layer\n",
    "model.add(layers.Dropout(0.25))  # Dropout layer added here\n",
    "model.add(layers.Dense(1, activation='sigmoid'))\n",
    "model.compile(loss='binary_crossentropy', optimizer='adam', metrics=['accuracy'])\n",
    "model.summary()"
   ]
  },
  {
   "cell_type": "code",
   "execution_count": 664,
   "metadata": {
    "ExecuteTime": {
     "end_time": "2022-11-01T14:23:16.592773Z",
     "start_time": "2022-11-01T14:23:07.428276Z"
    }
   },
   "outputs": [
    {
     "name": "stdout",
     "output_type": "stream",
     "text": [
      "Epoch 1/6\n",
      "40/40 [==============================] - 3s 50ms/step - loss: 0.5985 - accuracy: 0.6742 - val_loss: 0.4509 - val_accuracy: 0.8098\n",
      "Epoch 2/6\n",
      "40/40 [==============================] - 2s 51ms/step - loss: 0.3440 - accuracy: 0.8658 - val_loss: 0.2857 - val_accuracy: 0.9053\n",
      "Epoch 3/6\n",
      "40/40 [==============================] - 2s 54ms/step - loss: 0.1273 - accuracy: 0.9532 - val_loss: 0.3053 - val_accuracy: 0.9140\n",
      "Epoch 4/6\n",
      "40/40 [==============================] - 2s 56ms/step - loss: 0.0414 - accuracy: 0.9866 - val_loss: 0.3502 - val_accuracy: 0.9116\n",
      "Epoch 5/6\n",
      "40/40 [==============================] - 2s 54ms/step - loss: 0.0163 - accuracy: 0.9955 - val_loss: 0.3781 - val_accuracy: 0.9179\n",
      "Epoch 6/6\n",
      "40/40 [==============================] - 2s 52ms/step - loss: 0.0035 - accuracy: 0.9998 - val_loss: 0.4666 - val_accuracy: 0.9179\n"
     ]
    },
    {
     "data": {
      "text/plain": [
       "<keras.callbacks.History at 0x27da75395e0>"
      ]
     },
     "execution_count": 664,
     "metadata": {},
     "output_type": "execute_result"
    }
   ],
   "source": [
    "# traing the model\n",
    "model.fit(X_train, y_train, validation_data=(X_test, y_test), epochs=6, batch_size=128, verbose=1) # originaly epochs = 2,"
   ]
  },
  {
   "cell_type": "code",
   "execution_count": 665,
   "metadata": {
    "ExecuteTime": {
     "end_time": "2022-11-01T14:23:25.633624Z",
     "start_time": "2022-11-01T14:23:25.614626Z"
    }
   },
   "outputs": [],
   "source": [
    "# function for Report and Confusion Matrix Heatmap    \n",
    "# plotting\n",
    "import matplotlib.pyplot as plt\n",
    "import seaborn as sns\n",
    "# machine learning \n",
    "from sklearn.metrics import classification_report, confusion_matrix, accuracy_score\n",
    "\n",
    "def report_heatmap(y_pred):\n",
    "    \"\"\"\n",
    "    print report and plot the confusion matrix\n",
    "    \n",
    "    parameters: y_pred, a list of predicted labels\n",
    "    \n",
    "    return: None\n",
    "    \n",
    "    \n",
    "    \"\"\"\n",
    "    # overall accuracy \n",
    "    acc = accuracy_score(y_test, y_pred)\n",
    "    print( f'Overall Accuracy: {acc*100:.2f}%' )\n",
    "    print(\"--------------------------\")    \n",
    "    \n",
    "    # report\n",
    "    print(classification_report(y_test, y_pred))\n",
    "   \n",
    "    # confusion matrix\n",
    "    cm = confusion_matrix(y_test, y_pred)\n",
    "\n",
    "    # Confusion Matrix Heatmap\n",
    "    labels = [\"0\", \"1\"]\n",
    "    plt.figure(1, figsize=(8, 5))\n",
    "\n",
    "    plt.title(\"Confusion Matrix\")\n",
    "\n",
    "    sns.set(font_scale=1.4)\n",
    "    ax = sns.heatmap(cm, annot=True, cmap=\"YlGnBu\", cbar_kws={'label': 'Scale'}) # Yellow + Green + Blue\n",
    "\n",
    "    ax.set_xticklabels(labels)\n",
    "    ax.set_yticklabels(labels)\n",
    "\n",
    "    ax.set(ylabel=\"True Label\", xlabel=\"Predicted Label\")\n",
    "\n",
    "    plt.show( )\n",
    "\n"
   ]
  },
  {
   "cell_type": "code",
   "execution_count": 666,
   "metadata": {
    "ExecuteTime": {
     "end_time": "2022-11-01T14:23:38.594037Z",
     "start_time": "2022-11-01T14:23:36.279930Z"
    }
   },
   "outputs": [
    {
     "name": "stdout",
     "output_type": "stream",
     "text": [
      "40/40 [==============================] - 0s 5ms/step\n",
      "Overall Accuracy: 91.79%\n",
      "--------------------------\n",
      "              precision    recall  f1-score   support\n",
      "\n",
      "           0       0.93      0.91      0.92       628\n",
      "           1       0.91      0.93      0.92       639\n",
      "\n",
      "    accuracy                           0.92      1267\n",
      "   macro avg       0.92      0.92      0.92      1267\n",
      "weighted avg       0.92      0.92      0.92      1267\n",
      "\n"
     ]
    },
    {
     "data": {
      "image/png": "[encoded data removed]",
      "text/plain": [
       "<Figure size 576x360 with 2 Axes>"
      ]
     },
     "metadata": {},
     "output_type": "display_data"
    }
   ],
   "source": [
    "# Final evaluation of the model\n",
    "y_pred_prob = model.predict(X_test) # two probabilites for each sample\n",
    "y_pred = (y_pred_prob >= 0.5).astype(\"int32\")\n",
    "y_pred \n",
    "\n",
    "\n",
    "# # display report\n",
    "report_heatmap(y_pred)"
   ]
  },
  {
   "cell_type": "markdown",
   "metadata": {},
   "source": [
    "## 2. CNN model"
   ]
  },
  {
   "cell_type": "code",
   "execution_count": 667,
   "metadata": {
    "ExecuteTime": {
     "end_time": "2022-11-01T14:18:41.556017Z",
     "start_time": "2022-11-01T14:18:41.541771Z"
    }
   },
   "outputs": [],
   "source": [
    "# use the same data Train/test "
   ]
  },
  {
   "cell_type": "code",
   "execution_count": 668,
   "metadata": {
    "ExecuteTime": {
     "end_time": "2022-11-01T14:23:45.733015Z",
     "start_time": "2022-11-01T14:23:45.652505Z"
    }
   },
   "outputs": [
    {
     "name": "stdout",
     "output_type": "stream",
     "text": [
      "Model: \"sequential_57\"\n",
      "_________________________________________________________________\n",
      " Layer (type)                Output Shape              Param #   \n",
      "=================================================================\n",
      " embedding_55 (Embedding)    (None, 500, 32)           160000    \n",
      "                                                                 \n",
      " conv1d_23 (Conv1D)          (None, 500, 32)           3104      \n",
      "                                                                 \n",
      " max_pooling1d_23 (MaxPoolin  (None, 250, 32)          0         \n",
      " g1D)                                                            \n",
      "                                                                 \n",
      " flatten_55 (Flatten)        (None, 8000)              0         \n",
      "                                                                 \n",
      " dense_159 (Dense)           (None, 250)               2000250   \n",
      "                                                                 \n",
      " dense_160 (Dense)           (None, 120)               30120     \n",
      "                                                                 \n",
      " dropout_48 (Dropout)        (None, 120)               0         \n",
      "                                                                 \n",
      " dense_161 (Dense)           (None, 100)               12100     \n",
      "                                                                 \n",
      " dropout_49 (Dropout)        (None, 100)               0         \n",
      "                                                                 \n",
      " dense_162 (Dense)           (None, 1)                 101       \n",
      "                                                                 \n",
      "=================================================================\n",
      "Total params: 2,205,675\n",
      "Trainable params: 2,205,675\n",
      "Non-trainable params: 0\n",
      "_________________________________________________________________\n"
     ]
    }
   ],
   "source": [
    "\n",
    "# create the model\n",
    "model =keras.Sequential()\n",
    "model.add(layers.Embedding(vocab, 32, input_length=max_words))\n",
    "model.add(layers.Conv1D(32, 3, padding='same', activation='relu'))\n",
    "model.add(layers.MaxPooling1D())\n",
    "model.add(layers.Flatten())\n",
    "model.add(layers.Dense(250, activation='relu')) \n",
    "model.add(layers.Dense(120, activation='relu')) # added layer\n",
    "model.add(layers.Dropout(0.25))  # Dropout layer added here\n",
    "model.add(layers.Dense(100, activation='relu')) # added layer\n",
    "model.add(layers.Dropout(0.25))  # Dropout layer added here\n",
    "model.add(layers.Dense(1, activation='sigmoid'))\n",
    "model.compile(loss='binary_crossentropy', optimizer='adam', metrics=['accuracy'])\n",
    "model.summary()"
   ]
  },
  {
   "cell_type": "code",
   "execution_count": 669,
   "metadata": {},
   "outputs": [
    {
     "data": {
      "text/plain": [
       "\"model = keras.Sequential()\\nmodel.add(layers.Reshape((max_words, 32, 1, 1), input_shape=(max_words, 32)))\\nmodel.add(layers.Conv3D(32, (3, 3, 3), padding='same', activation='relu'))\\nmodel.add(layers.MaxPooling3D(pool_size=(2, 2, 2)))\\nmodel.add(layers.Flatten())\\nmodel.add(layers.Dense(250, activation='relu'))\\nmodel.add(layers.Dense(1, activation='sigmoid'))\\nmodel.compile(loss='binary_crossentropy', optimizer='adam', metrics=['accuracy'])\\nmodel.summary()\\n\""
      ]
     },
     "execution_count": 669,
     "metadata": {},
     "output_type": "execute_result"
    }
   ],
   "source": [
    "\"\"\"model = keras.Sequential()\n",
    "model.add(layers.Reshape((max_words, 32, 1, 1), input_shape=(max_words, 32)))\n",
    "model.add(layers.Conv3D(32, (3, 3, 3), padding='same', activation='relu'))\n",
    "model.add(layers.MaxPooling3D(pool_size=(2, 2, 2)))\n",
    "model.add(layers.Flatten())\n",
    "model.add(layers.Dense(250, activation='relu'))\n",
    "model.add(layers.Dense(1, activation='sigmoid'))\n",
    "model.compile(loss='binary_crossentropy', optimizer='adam', metrics=['accuracy'])\n",
    "model.summary()\n",
    "\"\"\""
   ]
  },
  {
   "cell_type": "code",
   "execution_count": 670,
   "metadata": {
    "ExecuteTime": {
     "end_time": "2022-11-01T14:24:35.691454Z",
     "start_time": "2022-11-01T14:24:04.412276Z"
    }
   },
   "outputs": [
    {
     "name": "stdout",
     "output_type": "stream",
     "text": [
      "Epoch 1/8\n",
      "40/40 - 6s - loss: 0.6401 - accuracy: 0.6365 - val_loss: 0.5283 - val_accuracy: 0.8137 - 6s/epoch - 144ms/step\n",
      "Epoch 2/8\n",
      "40/40 - 4s - loss: 0.3484 - accuracy: 0.8502 - val_loss: 0.2559 - val_accuracy: 0.9061 - 4s/epoch - 107ms/step\n",
      "Epoch 3/8\n",
      "40/40 - 4s - loss: 0.1113 - accuracy: 0.9625 - val_loss: 0.1904 - val_accuracy: 0.9329 - 4s/epoch - 105ms/step\n",
      "Epoch 4/8\n",
      "40/40 - 4s - loss: 0.0352 - accuracy: 0.9927 - val_loss: 0.2525 - val_accuracy: 0.9313 - 4s/epoch - 103ms/step\n",
      "Epoch 5/8\n",
      "40/40 - 4s - loss: 0.0127 - accuracy: 0.9964 - val_loss: 0.2293 - val_accuracy: 0.9424 - 4s/epoch - 101ms/step\n",
      "Epoch 6/8\n",
      "40/40 - 4s - loss: 0.0025 - accuracy: 0.9998 - val_loss: 0.2713 - val_accuracy: 0.9416 - 4s/epoch - 106ms/step\n",
      "Epoch 7/8\n",
      "40/40 - 4s - loss: 6.6704e-04 - accuracy: 1.0000 - val_loss: 0.3086 - val_accuracy: 0.9408 - 4s/epoch - 103ms/step\n",
      "Epoch 8/8\n",
      "40/40 - 4s - loss: 3.4775e-04 - accuracy: 1.0000 - val_loss: 0.3118 - val_accuracy: 0.9424 - 4s/epoch - 101ms/step\n"
     ]
    },
    {
     "data": {
      "text/plain": [
       "<keras.callbacks.History at 0x27d9b0d9b50>"
      ]
     },
     "execution_count": 670,
     "metadata": {},
     "output_type": "execute_result"
    }
   ],
   "source": [
    "# Fit the model\n",
    "model.fit(X_train, y_train, validation_data=(X_test, y_test), epochs=8, batch_size=128, verbose=2) # originally, epochs=3\n"
   ]
  },
  {
   "cell_type": "code",
   "execution_count": 671,
   "metadata": {
    "ExecuteTime": {
     "end_time": "2022-11-01T14:24:38.985008Z",
     "start_time": "2022-11-01T14:24:35.755652Z"
    }
   },
   "outputs": [
    {
     "name": "stdout",
     "output_type": "stream",
     "text": [
      "40/40 [==============================] - 0s 8ms/step\n",
      "Overall Accuracy: 94.24%\n",
      "--------------------------\n",
      "              precision    recall  f1-score   support\n",
      "\n",
      "           0       0.95      0.94      0.94       628\n",
      "           1       0.94      0.95      0.94       639\n",
      "\n",
      "    accuracy                           0.94      1267\n",
      "   macro avg       0.94      0.94      0.94      1267\n",
      "weighted avg       0.94      0.94      0.94      1267\n",
      "\n"
     ]
    },
    {
     "data": {
      "image/png": "[encoded data removed]",
      "text/plain": [
       "<Figure size 576x360 with 2 Axes>"
      ]
     },
     "metadata": {},
     "output_type": "display_data"
    }
   ],
   "source": [
    "# Predict on the test \n",
    "y_pred_prob = model.predict(X_test) # two probabilites for each sample\n",
    "y_pred = (y_pred_prob >= 0.5).astype(\"int32\")\n",
    "y_pred \n",
    "\n",
    "\n",
    "# # display report\n",
    "report_heatmap(y_pred)"
   ]
  },
  {
   "cell_type": "code",
   "execution_count": 672,
   "metadata": {
    "ExecuteTime": {
     "end_time": "2022-11-01T14:19:17.469076Z",
     "start_time": "2022-11-01T14:19:17.456892Z"
    }
   },
   "outputs": [],
   "source": [
    "# end\n",
    "# a little bit overfitting: use dropout can fix it."
   ]
  },
  {
   "cell_type": "markdown",
   "metadata": {},
   "source": [
    "REF: https://machinelearningmastery.com/predict-sentiment-movie-reviews-using-deep-learning/"
   ]
  }
 ],
 "metadata": {
  "hide_input": false,
  "kernelspec": {
   "display_name": "Python 3 (ipykernel)",
   "language": "python",
   "name": "python3"
  },
  "language_info": {
   "codemirror_mode": {
    "name": "ipython",
    "version": 3
   },
   "file_extension": ".py",
   "mimetype": "text/x-python",
   "name": "python",
   "nbconvert_exporter": "python",
   "pygments_lexer": "ipython3",
   "version": "3.9.7"
  },
  "varInspector": {
   "cols": {
    "lenName": 16,
    "lenType": 16,
    "lenVar": 40
   },
   "kernels_config": {
    "python": {
     "delete_cmd_postfix": "",
     "delete_cmd_prefix": "del ",
     "library": "var_list.py",
     "varRefreshCmd": "print(var_dic_list())"
    },
    "r": {
     "delete_cmd_postfix": ") ",
     "delete_cmd_prefix": "rm(",
     "library": "var_list.r",
     "varRefreshCmd": "cat(var_dic_list()) "
    }
   },
   "types_to_exclude": [
    "module",
    "function",
    "builtin_function_or_method",
    "instance",
    "_Feature"
   ],
   "window_display": false
  }
 },
 "nbformat": 4,
 "nbformat_minor": 4
}
